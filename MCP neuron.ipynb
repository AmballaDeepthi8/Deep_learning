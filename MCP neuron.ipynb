{
 "cells": [
  {
   "cell_type": "code",
   "execution_count": 22,
   "id": "9147fe9f",
   "metadata": {},
   "outputs": [
    {
     "name": "stdout",
     "output_type": "stream",
     "text": [
      "The result of activation function using or : 1\n",
      "The result of activation function using and : 0\n"
     ]
    }
   ],
   "source": [
    "def Mcp_Neuron(x,func):\n",
    "    \n",
    "    if func == 'AND':\n",
    "        if all(x):\n",
    "            return 1\n",
    "        else:\n",
    "            return 0\n",
    "    elif func == 'OR':\n",
    "        if any(x):\n",
    "            return 1\n",
    "        else:\n",
    "            return 0\n",
    "print('The result of activation function using or :',Mcp_Neuron([1, 1, 0, 1, 0, 1, 0, 0],'OR'))\n",
    "print('The result of activation function using and :',Mcp_Neuron([1, 1, 0, 1, 0, 1, 0, 0],'AND'))"
   ]
  },
  {
   "cell_type": "code",
   "execution_count": null,
   "id": "4b3f23be",
   "metadata": {},
   "outputs": [],
   "source": []
  }
 ],
 "metadata": {
  "kernelspec": {
   "display_name": "Python 3 (ipykernel)",
   "language": "python",
   "name": "python3"
  },
  "language_info": {
   "codemirror_mode": {
    "name": "ipython",
    "version": 3
   },
   "file_extension": ".py",
   "mimetype": "text/x-python",
   "name": "python",
   "nbconvert_exporter": "python",
   "pygments_lexer": "ipython3",
   "version": "3.9.13"
  }
 },
 "nbformat": 4,
 "nbformat_minor": 5
}
